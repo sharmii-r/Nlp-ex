{
 "cells": [
  {
   "cell_type": "code",
   "execution_count": 1,
   "id": "9875aead",
   "metadata": {},
   "outputs": [
    {
     "name": "stderr",
     "output_type": "stream",
     "text": [
      "[nltk_data] Downloading package punkt to\n",
      "[nltk_data]     C:\\Users\\admin\\AppData\\Roaming\\nltk_data...\n",
      "[nltk_data]   Package punkt is already up-to-date!\n",
      "[nltk_data] Downloading package averaged_perceptron_tagger to\n",
      "[nltk_data]     C:\\Users\\admin\\AppData\\Roaming\\nltk_data...\n",
      "[nltk_data]   Package averaged_perceptron_tagger is already up-to-\n",
      "[nltk_data]       date!\n",
      "[nltk_data] Downloading package maxent_ne_chunker to\n",
      "[nltk_data]     C:\\Users\\admin\\AppData\\Roaming\\nltk_data...\n",
      "[nltk_data]   Package maxent_ne_chunker is already up-to-date!\n",
      "[nltk_data] Downloading package words to\n",
      "[nltk_data]     C:\\Users\\admin\\AppData\\Roaming\\nltk_data...\n",
      "[nltk_data]   Package words is already up-to-date!\n",
      "[nltk_data] Downloading package stopwords to\n",
      "[nltk_data]     C:\\Users\\admin\\AppData\\Roaming\\nltk_data...\n",
      "[nltk_data]   Package stopwords is already up-to-date!\n",
      "[nltk_data] Downloading package wordnet to\n",
      "[nltk_data]     C:\\Users\\admin\\AppData\\Roaming\\nltk_data...\n",
      "[nltk_data]   Package wordnet is already up-to-date!\n",
      "[nltk_data] Downloading package omw-1.4 to\n",
      "[nltk_data]     C:\\Users\\admin\\AppData\\Roaming\\nltk_data...\n",
      "[nltk_data]   Package omw-1.4 is already up-to-date!\n"
     ]
    },
    {
     "data": {
      "text/plain": [
       "True"
      ]
     },
     "execution_count": 1,
     "metadata": {},
     "output_type": "execute_result"
    }
   ],
   "source": [
    "import nltk\n",
    "nltk.download('punkt')\n",
    "nltk.download('averaged_perceptron_tagger')\n",
    "nltk.download('maxent_ne_chunker')\n",
    "nltk.download('words')\n",
    "nltk.download('stopwords')\n",
    "nltk.download('wordnet')\n",
    "nltk.download('omw-1.4')"
   ]
  },
  {
   "cell_type": "code",
   "execution_count": 2,
   "id": "d4d90094",
   "metadata": {},
   "outputs": [],
   "source": [
    "text = \"\"\"\n",
    "Natural Language Processing (NLP) is a field of artificial intelligence that focuses on the interaction between computers and humans using natural language. \n",
    "The goal of NLP is to enable computers to understand, interpret, and generate human language in a way that is both meaningful and useful. \n",
    "Applications of NLP include machine translation, sentiment analysis, chatbots, and speech recognition. \n",
    "NLP combines computational linguistics with statistical, machine learning, and deep learning models.\n",
    "\"\"\""
   ]
  },
  {
   "cell_type": "code",
   "execution_count": 3,
   "id": "c332bb7e",
   "metadata": {},
   "outputs": [
    {
     "name": "stdout",
     "output_type": "stream",
     "text": [
      "Word Tokens: ['Natural', 'Language', 'Processing', '(', 'NLP', ')', 'is', 'a', 'field', 'of', 'artificial', 'intelligence', 'that', 'focuses', 'on', 'the', 'interaction', 'between', 'computers', 'and', 'humans', 'using', 'natural', 'language', '.', 'The', 'goal', 'of', 'NLP', 'is', 'to', 'enable', 'computers', 'to', 'understand', ',', 'interpret', ',', 'and', 'generate', 'human', 'language', 'in', 'a', 'way', 'that', 'is', 'both', 'meaningful', 'and', 'useful', '.', 'Applications', 'of', 'NLP', 'include', 'machine', 'translation', ',', 'sentiment', 'analysis', ',', 'chatbots', ',', 'and', 'speech', 'recognition', '.', 'NLP', 'combines', 'computational', 'linguistics', 'with', 'statistical', ',', 'machine', 'learning', ',', 'and', 'deep', 'learning', 'models', '.']\n",
      "Sentence Tokens: ['\\nNatural Language Processing (NLP) is a field of artificial intelligence that focuses on the interaction between computers and humans using natural language.', 'The goal of NLP is to enable computers to understand, interpret, and generate human language in a way that is both meaningful and useful.', 'Applications of NLP include machine translation, sentiment analysis, chatbots, and speech recognition.', 'NLP combines computational linguistics with statistical, machine learning, and deep learning models.']\n"
     ]
    }
   ],
   "source": [
    "from nltk.tokenize import word_tokenize, sent_tokenize\n",
    "\n",
    "# Word Tokenization\n",
    "words = word_tokenize(text)\n",
    "print(\"Word Tokens:\", words)\n",
    "\n",
    "# Sentence Tokenization\n",
    "sentences = sent_tokenize(text)\n",
    "print(\"Sentence Tokens:\", sentences)"
   ]
  },
  {
   "cell_type": "code",
   "execution_count": 4,
   "id": "e5bc059b",
   "metadata": {},
   "outputs": [
    {
     "name": "stdout",
     "output_type": "stream",
     "text": [
      "POS Tags: [('Natural', 'JJ'), ('Language', 'NNP'), ('Processing', 'NNP'), ('(', '('), ('NLP', 'NNP'), (')', ')'), ('is', 'VBZ'), ('a', 'DT'), ('field', 'NN'), ('of', 'IN'), ('artificial', 'JJ'), ('intelligence', 'NN'), ('that', 'WDT'), ('focuses', 'VBZ'), ('on', 'IN'), ('the', 'DT'), ('interaction', 'NN'), ('between', 'IN'), ('computers', 'NNS'), ('and', 'CC'), ('humans', 'NNS'), ('using', 'VBG'), ('natural', 'JJ'), ('language', 'NN'), ('.', '.'), ('The', 'DT'), ('goal', 'NN'), ('of', 'IN'), ('NLP', 'NNP'), ('is', 'VBZ'), ('to', 'TO'), ('enable', 'JJ'), ('computers', 'NNS'), ('to', 'TO'), ('understand', 'VB'), (',', ','), ('interpret', 'VB'), (',', ','), ('and', 'CC'), ('generate', 'VB'), ('human', 'JJ'), ('language', 'NN'), ('in', 'IN'), ('a', 'DT'), ('way', 'NN'), ('that', 'WDT'), ('is', 'VBZ'), ('both', 'DT'), ('meaningful', 'JJ'), ('and', 'CC'), ('useful', 'JJ'), ('.', '.'), ('Applications', 'NNS'), ('of', 'IN'), ('NLP', 'NNP'), ('include', 'VBP'), ('machine', 'NN'), ('translation', 'NN'), (',', ','), ('sentiment', 'NN'), ('analysis', 'NN'), (',', ','), ('chatbots', 'NNS'), (',', ','), ('and', 'CC'), ('speech', 'JJ'), ('recognition', 'NN'), ('.', '.'), ('NLP', 'NNP'), ('combines', 'VBZ'), ('computational', 'JJ'), ('linguistics', 'NNS'), ('with', 'IN'), ('statistical', 'JJ'), (',', ','), ('machine', 'NN'), ('learning', 'NN'), (',', ','), ('and', 'CC'), ('deep', 'JJ'), ('learning', 'NN'), ('models', 'NNS'), ('.', '.')]\n"
     ]
    }
   ],
   "source": [
    "from nltk import pos_tag\n",
    "\n",
    "pos_tags = pos_tag(words)\n",
    "print(\"POS Tags:\", pos_tags)"
   ]
  },
  {
   "cell_type": "code",
   "execution_count": 5,
   "id": "836b4c5c",
   "metadata": {},
   "outputs": [
    {
     "name": "stdout",
     "output_type": "stream",
     "text": [
      "Named Entities: (S\n",
      "  Natural/JJ\n",
      "  Language/NNP\n",
      "  Processing/NNP\n",
      "  (/(\n",
      "  (ORGANIZATION NLP/NNP)\n",
      "  )/)\n",
      "  is/VBZ\n",
      "  a/DT\n",
      "  field/NN\n",
      "  of/IN\n",
      "  artificial/JJ\n",
      "  intelligence/NN\n",
      "  that/WDT\n",
      "  focuses/VBZ\n",
      "  on/IN\n",
      "  the/DT\n",
      "  interaction/NN\n",
      "  between/IN\n",
      "  computers/NNS\n",
      "  and/CC\n",
      "  humans/NNS\n",
      "  using/VBG\n",
      "  natural/JJ\n",
      "  language/NN\n",
      "  ./.\n",
      "  The/DT\n",
      "  goal/NN\n",
      "  of/IN\n",
      "  (ORGANIZATION NLP/NNP)\n",
      "  is/VBZ\n",
      "  to/TO\n",
      "  enable/JJ\n",
      "  computers/NNS\n",
      "  to/TO\n",
      "  understand/VB\n",
      "  ,/,\n",
      "  interpret/VB\n",
      "  ,/,\n",
      "  and/CC\n",
      "  generate/VB\n",
      "  human/JJ\n",
      "  language/NN\n",
      "  in/IN\n",
      "  a/DT\n",
      "  way/NN\n",
      "  that/WDT\n",
      "  is/VBZ\n",
      "  both/DT\n",
      "  meaningful/JJ\n",
      "  and/CC\n",
      "  useful/JJ\n",
      "  ./.\n",
      "  Applications/NNS\n",
      "  of/IN\n",
      "  (ORGANIZATION NLP/NNP)\n",
      "  include/VBP\n",
      "  machine/NN\n",
      "  translation/NN\n",
      "  ,/,\n",
      "  sentiment/NN\n",
      "  analysis/NN\n",
      "  ,/,\n",
      "  chatbots/NNS\n",
      "  ,/,\n",
      "  and/CC\n",
      "  speech/JJ\n",
      "  recognition/NN\n",
      "  ./.\n",
      "  (ORGANIZATION NLP/NNP)\n",
      "  combines/VBZ\n",
      "  computational/JJ\n",
      "  linguistics/NNS\n",
      "  with/IN\n",
      "  statistical/JJ\n",
      "  ,/,\n",
      "  machine/NN\n",
      "  learning/NN\n",
      "  ,/,\n",
      "  and/CC\n",
      "  deep/JJ\n",
      "  learning/NN\n",
      "  models/NNS\n",
      "  ./.)\n"
     ]
    }
   ],
   "source": [
    "from nltk import ne_chunk\n",
    "\n",
    "named_entities = ne_chunk(pos_tags)\n",
    "print(\"Named Entities:\", named_entities)"
   ]
  },
  {
   "cell_type": "code",
   "execution_count": 6,
   "id": "b194d366",
   "metadata": {},
   "outputs": [
    {
     "name": "stdout",
     "output_type": "stream",
     "text": [
      "Filtered Words: ['Natural', 'Language', 'Processing', '(', 'NLP', ')', 'field', 'artificial', 'intelligence', 'focuses', 'interaction', 'computers', 'humans', 'using', 'natural', 'language', '.', 'goal', 'NLP', 'enable', 'computers', 'understand', ',', 'interpret', ',', 'generate', 'human', 'language', 'way', 'meaningful', 'useful', '.', 'Applications', 'NLP', 'include', 'machine', 'translation', ',', 'sentiment', 'analysis', ',', 'chatbots', ',', 'speech', 'recognition', '.', 'NLP', 'combines', 'computational', 'linguistics', 'statistical', ',', 'machine', 'learning', ',', 'deep', 'learning', 'models', '.']\n"
     ]
    }
   ],
   "source": [
    "from nltk.corpus import stopwords\n",
    "\n",
    "stop_words = set(stopwords.words('english'))\n",
    "filtered_words = [word for word in words if word.lower() not in stop_words]\n",
    "print(\"Filtered Words:\", filtered_words)"
   ]
  },
  {
   "cell_type": "code",
   "execution_count": 7,
   "id": "67f593b3",
   "metadata": {},
   "outputs": [
    {
     "name": "stdout",
     "output_type": "stream",
     "text": [
      "Stemmed Words: ['natur', 'languag', 'process', '(', 'nlp', ')', 'field', 'artifici', 'intellig', 'focus', 'interact', 'comput', 'human', 'use', 'natur', 'languag', '.', 'goal', 'nlp', 'enabl', 'comput', 'understand', ',', 'interpret', ',', 'gener', 'human', 'languag', 'way', 'meaning', 'use', '.', 'applic', 'nlp', 'includ', 'machin', 'translat', ',', 'sentiment', 'analysi', ',', 'chatbot', ',', 'speech', 'recognit', '.', 'nlp', 'combin', 'comput', 'linguist', 'statist', ',', 'machin', 'learn', ',', 'deep', 'learn', 'model', '.']\n"
     ]
    }
   ],
   "source": [
    "from nltk.stem import PorterStemmer\n",
    "\n",
    "stemmer = PorterStemmer()\n",
    "stemmed_words = [stemmer.stem(word) for word in filtered_words]\n",
    "print(\"Stemmed Words:\", stemmed_words)"
   ]
  },
  {
   "cell_type": "code",
   "execution_count": 8,
   "id": "d894a653",
   "metadata": {},
   "outputs": [
    {
     "name": "stdout",
     "output_type": "stream",
     "text": [
      "Lemmatized Words: ['Natural', 'Language', 'Processing', '(', 'NLP', ')', 'field', 'artificial', 'intelligence', 'focus', 'interaction', 'computer', 'human', 'using', 'natural', 'language', '.', 'goal', 'NLP', 'enable', 'computer', 'understand', ',', 'interpret', ',', 'generate', 'human', 'language', 'way', 'meaningful', 'useful', '.', 'Applications', 'NLP', 'include', 'machine', 'translation', ',', 'sentiment', 'analysis', ',', 'chatbots', ',', 'speech', 'recognition', '.', 'NLP', 'combine', 'computational', 'linguistics', 'statistical', ',', 'machine', 'learning', ',', 'deep', 'learning', 'model', '.']\n"
     ]
    }
   ],
   "source": [
    "from nltk.stem import WordNetLemmatizer\n",
    "\n",
    "lemmatizer = WordNetLemmatizer()\n",
    "lemmatized_words = [lemmatizer.lemmatize(word) for word in filtered_words]\n",
    "print(\"Lemmatized Words:\", lemmatized_words)"
   ]
  },
  {
   "cell_type": "code",
   "execution_count": 14,
   "id": "b377981b",
   "metadata": {},
   "outputs": [
    {
     "name": "stdout",
     "output_type": "stream",
     "text": [
      "Number of parse trees: 2\n",
      "Parse Tree 1:\n",
      "(S\n",
      "  (NP NLP)\n",
      "  (VP\n",
      "    (V is)\n",
      "    (NP (Det a) (N field))\n",
      "    (PP (P of) (NP artificial intelligence))))\n",
      "     S                                               \n",
      "  ___|____________                                    \n",
      " |                VP                                 \n",
      " |    ____________|___________                        \n",
      " |   |       NP               PP                     \n",
      " |   |    ___|____      ______|_______                \n",
      " NP  V  Det       N    P              NP             \n",
      " |   |   |        |    |       _______|_______        \n",
      "NLP  is  a      field  of artificial     intelligence\n",
      "\n",
      "Parse Tree 2:\n",
      "(S\n",
      "  (NP NLP)\n",
      "  (VP\n",
      "    (V is)\n",
      "    (NP (Det a) (N field))\n",
      "    (PP (P of) (NP (Adj artificial) (N intelligence)))))\n",
      "     S                                               \n",
      "  ___|____________                                    \n",
      " |                VP                                 \n",
      " |    ____________|___________                        \n",
      " |   |       |                PP                     \n",
      " |   |       |          ______|_______                \n",
      " |   |       NP        |              NP             \n",
      " |   |    ___|____     |       _______|_______        \n",
      " NP  V  Det       N    P     Adj              N      \n",
      " |   |   |        |    |      |               |       \n",
      "NLP  is  a      field  of artificial     intelligence\n",
      "\n"
     ]
    }
   ],
   "source": [
    "from nltk import CFG\n",
    "from nltk.parse import ChartParser\n",
    "\n",
    "# Define a grammar that allows ambiguity\n",
    "grammar = CFG.fromstring(\"\"\"\n",
    "    S -> NP VP\n",
    "    VP -> V NP | V NP PP\n",
    "    NP -> Det N | Det Adj N | 'NLP' | 'computers' | 'humans' | 'artificial' 'intelligence' | Adj N\n",
    "    PP -> P NP\n",
    "    Det -> 'the' | 'a'\n",
    "    Adj -> 'natural' | 'useful' | 'artificial'\n",
    "    N -> 'field' | 'language' | 'goal' | 'interaction' | 'applications' | 'intelligence'\n",
    "    V -> 'is' | 'focuses' | 'enable' | 'include'\n",
    "    P -> 'between' | 'of'\n",
    "\"\"\")\n",
    "\n",
    "# Create a parser\n",
    "parser = ChartParser(grammar)\n",
    "\n",
    "# Parse the sentence\n",
    "sentence = \"NLP is a field of artificial intelligence\"\n",
    "tokens = sentence.split()\n",
    "\n",
    "# Check for possible parse trees\n",
    "try:\n",
    "    trees = list(parser.parse(tokens))\n",
    "    if trees:\n",
    "        print(f\"Number of parse trees: {len(trees)}\")\n",
    "        for i, tree in enumerate(trees, 1):\n",
    "            print(f\"Parse Tree {i}:\")\n",
    "            print(tree)\n",
    "            tree.pretty_print()\n",
    "    else:\n",
    "        print(\"No valid parse tree found.\")\n",
    "except ValueError as e:\n",
    "    print(\"Error:\", e)"
   ]
  },
  {
   "cell_type": "code",
   "execution_count": null,
   "id": "c8658b7c",
   "metadata": {},
   "outputs": [],
   "source": []
  }
 ],
 "metadata": {
  "kernelspec": {
   "display_name": "Python 3",
   "language": "python",
   "name": "python3"
  },
  "language_info": {
   "codemirror_mode": {
    "name": "ipython",
    "version": 3
   },
   "file_extension": ".py",
   "mimetype": "text/x-python",
   "name": "python",
   "nbconvert_exporter": "python",
   "pygments_lexer": "ipython3",
   "version": "3.8.8"
  }
 },
 "nbformat": 4,
 "nbformat_minor": 5
}
