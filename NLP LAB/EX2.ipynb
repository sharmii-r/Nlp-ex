{
 "cells": [
  {
   "cell_type": "code",
   "execution_count": 2,
   "id": "83b9dcd5-20c5-4b45-a99a-6aa00a477532",
   "metadata": {},
   "outputs": [
    {
     "name": "stdin",
     "output_type": "stream",
     "text": [
      "Enter a paragraph of text:  The quick brown fox jumps over the lazy dog. The lazy dog did not mind the quick fox. The fox was clever and fast, always running with the dog.\n",
      "Enter first word of bigram:  lazy\n",
      "Enter second word of bigram:  dog\n"
     ]
    },
    {
     "name": "stdout",
     "output_type": "stream",
     "text": [
      "\n",
      "Bigram: (lazy, dog)\n",
      "Frequency of bigram: 2\n",
      "Frequency of 'lazy': 2\n",
      "Frequency of 'dog': 3\n",
      "Total Bigrams: 33\n",
      "Total Words: 33\n",
      "\n",
      "--- t-Test ---\n",
      "Expected Frequency (under independence): 0.18\n",
      "t-Score: 1.2856\n",
      "Conclusion: Not a strong collocation (not significant)\n",
      "\n",
      "--- Chi-Square Test ---\n",
      "Chi-Square Value: 11.1907\n",
      "p-value: 0.0008\n",
      "Conclusion: Likely a collocation (significant)\n"
     ]
    }
   ],
   "source": [
    "import nltk\n",
    "from nltk.collocations import BigramCollocationFinder\n",
    "from nltk.metrics import BigramAssocMeasures\n",
    "from nltk import word_tokenize\n",
    "from scipy.stats import chi2_contingency, ttest_1samp\n",
    "import math\n",
    "\n",
    "# Step 1: Input text and tokenize\n",
    "text = input(\"Enter a paragraph of text: \")\n",
    "tokens = word_tokenize(text.lower())\n",
    "\n",
    "# Step 2: Input bigram to check\n",
    "word1 = input(\"Enter first word of bigram: \").lower()\n",
    "word2 = input(\"Enter second word of bigram: \").lower()\n",
    "\n",
    "# Step 3: Frequency counts\n",
    "finder = BigramCollocationFinder.from_words(tokens)\n",
    "bigram_freq = finder.ngram_fd[(word1, word2)]\n",
    "total_bigrams = finder.N\n",
    "total_words = len(tokens)\n",
    "word1_count = tokens.count(word1)\n",
    "word2_count = tokens.count(word2)\n",
    "\n",
    "print(f\"\\nBigram: ({word1}, {word2})\")\n",
    "print(f\"Frequency of bigram: {bigram_freq}\")\n",
    "print(f\"Frequency of '{word1}': {word1_count}\")\n",
    "print(f\"Frequency of '{word2}': {word2_count}\")\n",
    "print(f\"Total Bigrams: {total_bigrams}\")\n",
    "print(f\"Total Words: {total_words}\")\n",
    "\n",
    "# Step 4: t-Test (simplified)\n",
    "print(\"\\n--- t-Test ---\")\n",
    "expected_prob = (word1_count / total_words) * (word2_count / total_words)\n",
    "expected_freq = expected_prob * total_bigrams\n",
    "t_score = (bigram_freq - expected_freq) / math.sqrt(bigram_freq if bigram_freq > 0 else 1)\n",
    "\n",
    "print(f\"Expected Frequency (under independence): {expected_freq:.2f}\")\n",
    "print(f\"t-Score: {t_score:.4f}\")\n",
    "if abs(t_score) > 2:\n",
    "    print(\"Conclusion: Likely a collocation (significant)\")\n",
    "else:\n",
    "    print(\"Conclusion: Not a strong collocation (not significant)\")\n",
    "\n",
    "# Step 5: Chi-Square Test\n",
    "print(\"\\n--- Chi-Square Test ---\")\n",
    "\n",
    "# Build contingency table:\n",
    "#        word2      ~word2\n",
    "# word1    A           B\n",
    "# ~word1   C           D\n",
    "\n",
    "A = bigram_freq\n",
    "B = word1_count - bigram_freq\n",
    "C = word2_count - bigram_freq\n",
    "D = total_bigrams - (A + B + C)\n",
    "\n",
    "table = [[A, B], [C, D]]\n",
    "\n",
    "chi2, p, dof, expected = chi2_contingency(table)\n",
    "\n",
    "print(f\"Chi-Square Value: {chi2:.4f}\")\n",
    "print(f\"p-value: {p:.4f}\")\n",
    "if p < 0.05:\n",
    "    print(\"Conclusion: Likely a collocation (significant)\")\n",
    "else:\n",
    "    print(\"Conclusion: Not a strong collocation (not significant)\")"
   ]
  },
  {
   "cell_type": "code",
   "execution_count": null,
   "id": "063307cc-d165-4003-bdd1-5159492a54c9",
   "metadata": {},
   "outputs": [],
   "source": []
  }
 ],
 "metadata": {
  "kernelspec": {
   "display_name": "Python 3 (ipykernel)",
   "language": "python",
   "name": "python3"
  },
  "language_info": {
   "codemirror_mode": {
    "name": "ipython",
    "version": 3
   },
   "file_extension": ".py",
   "mimetype": "text/x-python",
   "name": "python",
   "nbconvert_exporter": "python",
   "pygments_lexer": "ipython3",
   "version": "3.11.7"
  }
 },
 "nbformat": 4,
 "nbformat_minor": 5
}
