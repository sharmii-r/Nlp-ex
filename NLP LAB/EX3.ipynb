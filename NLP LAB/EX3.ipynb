{
 "cells": [
  {
   "cell_type": "code",
   "execution_count": 7,
   "id": "8dd680b3-78b3-41e4-8e4e-44d01c42b7d0",
   "metadata": {},
   "outputs": [
    {
     "name": "stdout",
     "output_type": "stream",
     "text": [
      "Enter training data (sentence and sense, separated by a comma). Type 'done' to finish:\n"
     ]
    },
    {
     "name": "stdin",
     "output_type": "stream",
     "text": [
      " Bass eat super,Fish\n",
      " Bass lunch excellent,Fish\n",
      " Bass ate like,Fish\n",
      " Bass interest play,music\n",
      " Bass play music,music\n",
      " done\n"
     ]
    },
    {
     "name": "stdout",
     "output_type": "stream",
     "text": [
      "\n",
      "Enter testing data (sentence). Type 'done' to finish:\n"
     ]
    },
    {
     "name": "stdin",
     "output_type": "stream",
     "text": [
      " bass super excellent play\n",
      " done\n"
     ]
    },
    {
     "name": "stdout",
     "output_type": "stream",
     "text": [
      "\n",
      "Predictions:\n",
      "\n",
      "Sentence: 'bass super excellent play'\n",
      "\n",
      "Probabilities for sense 'Fish':\n",
      "P(bass|Fish) = 0.2105\n",
      "P(super|Fish) = 0.1053\n",
      "P(excellent|Fish) = 0.1053\n",
      "P(play|Fish) = 0.0526\n",
      "Prior P(Fish) = 0.6000\n",
      "Score for sense 'Fish': -9.5160\n",
      "\n",
      "Probabilities for sense 'music':\n",
      "P(bass|music) = 0.1875\n",
      "P(super|music) = 0.0625\n",
      "P(excellent|music) = 0.0625\n",
      "P(play|music) = 0.1875\n",
      "Prior P(music) = 0.4000\n",
      "Score for sense 'music': -9.8094\n",
      "\n",
      "Predicted Sense: 'Fish'\n",
      "\n"
     ]
    }
   ],
   "source": [
    "import numpy as np\n",
    "from collections import defaultdict\n",
    "from sklearn.feature_extraction.text import CountVectorizer\n",
    "from sklearn.naive_bayes import MultinomialNB\n",
    "\n",
    "def get_data(prompt):\n",
    "    print(prompt)\n",
    "    data = []\n",
    "    while True:\n",
    "        line = input().strip()\n",
    "        if line.lower() == 'done':\n",
    "            break\n",
    "        if ',' in line:\n",
    "            sentence, sense = line.rsplit(',', 1)\n",
    "            data.append((sentence.strip(), sense.strip()))\n",
    "        else:\n",
    "            data.append((line.strip(), None))\n",
    "    return data\n",
    "\n",
    "def main():\n",
    "    # Get data\n",
    "    training_data = get_data(\"Enter training data (sentence and sense, separated by a comma). Type 'done' to finish:\")\n",
    "    testing_data = get_data(\"\\nEnter testing data (sentence). Type 'done' to finish:\")\n",
    "    \n",
    "    if not training_data:\n",
    "        print(\"No training data provided. Exiting.\")\n",
    "        return\n",
    "    \n",
    "    # Prepare data\n",
    "    train_sentences, train_labels = zip(*[(s, l) for s, l in training_data if l is not None])\n",
    "    test_sentences = [s for s, l in testing_data if l is None]\n",
    "    \n",
    "    # Train model\n",
    "    vectorizer = CountVectorizer()\n",
    "    X_train = vectorizer.fit_transform(train_sentences)\n",
    "    clf = MultinomialNB()\n",
    "    clf.fit(X_train, train_labels)\n",
    "    \n",
    "    # Predict and show details\n",
    "    if test_sentences:\n",
    "        X_test = vectorizer.transform(test_sentences)\n",
    "        predicted_senses = clf.predict(X_test)\n",
    "        \n",
    "        print(\"\\nPredictions:\\n\")\n",
    "        for i, sentence in enumerate(test_sentences):\n",
    "            print(f\"Sentence: '{sentence}'\\n\")\n",
    "            \n",
    "            # Get feature log probabilities\n",
    "            feature_log_probs = clf.feature_log_prob_\n",
    "            vocab = vectorizer.vocabulary_\n",
    "            words = vectorizer.get_feature_names_out()\n",
    "            \n",
    "            for j, sense in enumerate(clf.classes_):\n",
    "                print(f\"Probabilities for sense '{sense}':\")\n",
    "                prior = np.exp(clf.class_log_prior_[j])\n",
    "                total_score = clf.class_log_prior_[j]\n",
    "                \n",
    "                for word in sentence.split():\n",
    "                    if word in vocab:\n",
    "                        idx = vocab[word]\n",
    "                        prob = np.exp(feature_log_probs[j][idx])\n",
    "                        word_score = feature_log_probs[j][idx]\n",
    "                        print(f\"P({word}|{sense}) = {prob:.4f}\")\n",
    "                    else:\n",
    "                        prob = 1 / (np.sum(np.exp(feature_log_probs[j])) + len(words))\n",
    "                        word_score = np.log(prob)\n",
    "                        print(f\"P({word}|{sense}) = UNSEEN -> {prob:.4f}\")\n",
    "                    total_score += word_score\n",
    "                \n",
    "                print(f\"Prior P({sense}) = {prior:.4f}\")\n",
    "                print(f\"Score for sense '{sense}': {total_score:.4f}\\n\")\n",
    "            \n",
    "            print(f\"Predicted Sense: '{predicted_senses[i]}'\\n\")\n",
    "\n",
    "\n",
    "main()\n",
    "\n",
    "\n"
   ]
  }
 ],
 "metadata": {
  "kernelspec": {
   "display_name": "Python 3 (ipykernel)",
   "language": "python",
   "name": "python3"
  },
  "language_info": {
   "codemirror_mode": {
    "name": "ipython",
    "version": 3
   },
   "file_extension": ".py",
   "mimetype": "text/x-python",
   "name": "python",
   "nbconvert_exporter": "python",
   "pygments_lexer": "ipython3",
   "version": "3.11.7"
  }
 },
 "nbformat": 4,
 "nbformat_minor": 5
}
