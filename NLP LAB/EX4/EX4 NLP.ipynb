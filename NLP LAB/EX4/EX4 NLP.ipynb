{
 "cells": [
  {
   "cell_type": "code",
   "execution_count": 4,
   "id": "77f365b1",
   "metadata": {},
   "outputs": [
    {
     "name": "stdout",
     "output_type": "stream",
     "text": [
      "Enter the C(v, with): 607\n",
      "Enter the C(v): 5156\n",
      "Enter the C(n, with): 155\n",
      "Enter the C(n): 1442\n",
      "\n",
      "Calculated Probabilities:\n",
      "P(VA with = 1 | v) = 0.11772692\n",
      "P(NA with = 1 | n) = 0.10748960\n",
      "P(NA with = 0 | n) = 0.89251040\n",
      "\n",
      "Calculated Lambda:\n",
      "lambda(v, n, p) = -0.03281191\n",
      "\n",
      "Result: PP attaches with N\n"
     ]
    }
   ],
   "source": [
    "import math\n",
    "\n",
    "# Get input from the user\n",
    "c_v_with = float(input(\"Enter the C(v, with): \"))\n",
    "c_v = float(input(\"Enter the C(v): \"))\n",
    "c_n_with = float(input(\"Enter the C(n, with): \"))\n",
    "c_n = float(input(\"Enter the C(n): \"))\n",
    "\n",
    "# Check for zero inputs to avoid division by zero or invalid log calculations\n",
    "if c_v == 0 or c_n == 0 or c_n_with == 0:\n",
    "    print(\"\\nError: Input values cannot be zero. Please provide valid inputs.\")\n",
    "else:\n",
    "    # Calculate probabilities\n",
    "    p_with_1_V = c_v_with / c_v\n",
    "    p_with_1_N = c_n_with / c_n\n",
    "    p_with_0_N = 1 - p_with_1_N\n",
    "\n",
    "    # Check if the argument of log2 is valid (must be positive)\n",
    "    log_argument = (p_with_1_V * p_with_0_N) / p_with_1_N\n",
    "    if log_argument <= 0:\n",
    "        print(\"\\nError: Invalid calculation. The argument for log2 must be positive.\")\n",
    "    else:\n",
    "        # Calculate lambda(v, n, p)\n",
    "        lambda_value = math.log2(log_argument)\n",
    "\n",
    "        # Display the results\n",
    "        print(\"\\nCalculated Probabilities:\")\n",
    "        print(f\"P(VA with = 1 | v) = {p_with_1_V:.8f}\")\n",
    "        print(f\"P(NA with = 1 | n) = {p_with_1_N:.8f}\")\n",
    "        print(f\"P(NA with = 0 | n) = {p_with_0_N:.8f}\")\n",
    "\n",
    "        print(\"\\nCalculated Lambda:\")\n",
    "        print(f\"lambda(v, n, p) = {lambda_value:.8f}\")\n",
    "\n",
    "        # Determine if PP attaches with V or N\n",
    "        if lambda_value > 0:\n",
    "            print(\"\\nResult: PP attaches with V\")\n",
    "        else:\n",
    "            print(\"\\nResult: PP attaches with N\")"
   ]
  },
  {
   "cell_type": "code",
   "execution_count": null,
   "id": "ac62f0b9",
   "metadata": {},
   "outputs": [],
   "source": []
  },
  {
   "cell_type": "code",
   "execution_count": null,
   "id": "c8c7c16b",
   "metadata": {},
   "outputs": [],
   "source": []
  }
 ],
 "metadata": {
  "kernelspec": {
   "display_name": "Python 3 (ipykernel)",
   "language": "python",
   "name": "python3"
  },
  "language_info": {
   "codemirror_mode": {
    "name": "ipython",
    "version": 3
   },
   "file_extension": ".py",
   "mimetype": "text/x-python",
   "name": "python",
   "nbconvert_exporter": "python",
   "pygments_lexer": "ipython3",
   "version": "3.11.3"
  }
 },
 "nbformat": 4,
 "nbformat_minor": 5
}
